{
 "cells": [
  {
   "cell_type": "markdown",
   "id": "783ef588",
   "metadata": {},
   "source": [
    "# The Ultimate Customer Segmentation Analysis"
   ]
  },
  {
   "cell_type": "code",
   "execution_count": 1,
   "id": "5b1c9965",
   "metadata": {},
   "outputs": [],
   "source": [
    "# Importing the required libraries\n",
    "import pandas as pd\n",
    "import numpy as np\n",
    "import math\n",
    "from datetime import datetime"
   ]
  },
  {
   "cell_type": "markdown",
   "id": "94db7db3",
   "metadata": {},
   "source": [
    "### Loading the Data"
   ]
  },
  {
   "cell_type": "code",
   "execution_count": 2,
   "id": "a6f3d27e",
   "metadata": {},
   "outputs": [
    {
     "name": "stdout",
     "output_type": "stream",
     "text": [
      "Total rows: 1000\n",
      "75% of rows: 750\n"
     ]
    }
   ],
   "source": [
    "# file path\n",
    "file_path = \"mock_data.csv\"\n",
    "\n",
    "# sum number of rows in the dataset\n",
    "total_rows = sum(1 for i in open(file_path))-1\n",
    "\n",
    "\n",
    "# first 75% of the rows\n",
    "rows_to_df = math.floor(total_rows * 0.75)\n",
    "\n",
    "\n",
    "print(f\"Total rows: {total_rows}\")\n",
    "print(f\"75% of rows: {rows_to_df}\")"
   ]
  },
  {
   "cell_type": "code",
   "execution_count": 3,
   "id": "dcb98d49",
   "metadata": {},
   "outputs": [
    {
     "data": {
      "text/plain": [
       "(750, 4)"
      ]
     },
     "execution_count": 3,
     "metadata": {},
     "output_type": "execute_result"
    }
   ],
   "source": [
    "# Load first 75% of the dataset\n",
    "df = pd.read_csv(file_path, nrows=rows_to_df)\n",
    "df.shape"
   ]
  },
  {
   "cell_type": "code",
   "execution_count": 4,
   "id": "f815ddd1",
   "metadata": {},
   "outputs": [
    {
     "name": "stdout",
     "output_type": "stream",
     "text": [
      "<class 'pandas.core.frame.DataFrame'>\n",
      "RangeIndex: 750 entries, 0 to 749\n",
      "Data columns (total 4 columns):\n",
      " #   Column           Non-Null Count  Dtype \n",
      "---  ------           --------------  ----- \n",
      " 0   Customer ID      750 non-null    int64 \n",
      " 1   Country          750 non-null    object\n",
      " 2   Total Purchases  750 non-null    int64 \n",
      " 3   Sign-up Date     750 non-null    object\n",
      "dtypes: int64(2), object(2)\n",
      "memory usage: 23.6+ KB\n"
     ]
    }
   ],
   "source": [
    "# checking the data format of each column\n",
    "df.info()"
   ]
  },
  {
   "cell_type": "markdown",
   "id": "e473620c",
   "metadata": {},
   "source": [
    "### Data Cleaning"
   ]
  },
  {
   "cell_type": "code",
   "execution_count": 5,
   "id": "c12812b6",
   "metadata": {},
   "outputs": [
    {
     "data": {
      "text/plain": [
       "(750, 4)"
      ]
     },
     "execution_count": 5,
     "metadata": {},
     "output_type": "execute_result"
    }
   ],
   "source": [
    "# Remove duplicates that appear in consecutive order\n",
    "df_cleaned = df.loc[(df != df.shift()).any(axis=1)].copy().reset_index(drop = True)\n",
    "df_cleaned.shape"
   ]
  },
  {
   "cell_type": "code",
   "execution_count": 6,
   "id": "7a5e538e",
   "metadata": {},
   "outputs": [
    {
     "name": "stdout",
     "output_type": "stream",
     "text": [
      "<class 'pandas.core.frame.DataFrame'>\n",
      "RangeIndex: 750 entries, 0 to 749\n",
      "Data columns (total 4 columns):\n",
      " #   Column           Non-Null Count  Dtype         \n",
      "---  ------           --------------  -----         \n",
      " 0   Customer ID      750 non-null    int64         \n",
      " 1   Country          750 non-null    object        \n",
      " 2   Total Purchases  750 non-null    int64         \n",
      " 3   Sign-up Date     750 non-null    datetime64[ns]\n",
      "dtypes: datetime64[ns](1), int64(2), object(1)\n",
      "memory usage: 23.6+ KB\n"
     ]
    }
   ],
   "source": [
    "# Converting 'Sign-up Date' column to proper datetime format\n",
    "df_cleaned['Sign-up Date']=pd.to_datetime(df_cleaned['Sign-up Date'])\n",
    "df_cleaned.info()"
   ]
  },
  {
   "cell_type": "code",
   "execution_count": 7,
   "id": "312bca54",
   "metadata": {},
   "outputs": [
    {
     "data": {
      "text/html": [
       "<div>\n",
       "<style scoped>\n",
       "    .dataframe tbody tr th:only-of-type {\n",
       "        vertical-align: middle;\n",
       "    }\n",
       "\n",
       "    .dataframe tbody tr th {\n",
       "        vertical-align: top;\n",
       "    }\n",
       "\n",
       "    .dataframe thead th {\n",
       "        text-align: right;\n",
       "    }\n",
       "</style>\n",
       "<table border=\"1\" class=\"dataframe\">\n",
       "  <thead>\n",
       "    <tr style=\"text-align: right;\">\n",
       "      <th></th>\n",
       "      <th>Customer ID</th>\n",
       "      <th>Country</th>\n",
       "      <th>Total Purchases</th>\n",
       "      <th>Sign-up Date</th>\n",
       "    </tr>\n",
       "  </thead>\n",
       "  <tbody>\n",
       "    <tr>\n",
       "      <th>0</th>\n",
       "      <td>1015</td>\n",
       "      <td>Palestinian Territory</td>\n",
       "      <td>12</td>\n",
       "      <td>2022-04-03 21:42:29</td>\n",
       "    </tr>\n",
       "    <tr>\n",
       "      <th>1</th>\n",
       "      <td>1029</td>\n",
       "      <td>China</td>\n",
       "      <td>47</td>\n",
       "      <td>2016-01-08 03:13:12</td>\n",
       "    </tr>\n",
       "    <tr>\n",
       "      <th>2</th>\n",
       "      <td>1025</td>\n",
       "      <td>Nigeria</td>\n",
       "      <td>10</td>\n",
       "      <td>2023-02-20 19:06:14</td>\n",
       "    </tr>\n",
       "    <tr>\n",
       "      <th>3</th>\n",
       "      <td>1006</td>\n",
       "      <td>United Kingdom</td>\n",
       "      <td>48</td>\n",
       "      <td>2022-05-26 12:46:35</td>\n",
       "    </tr>\n",
       "    <tr>\n",
       "      <th>4</th>\n",
       "      <td>1024</td>\n",
       "      <td>Philippines</td>\n",
       "      <td>16</td>\n",
       "      <td>2016-12-13 03:44:04</td>\n",
       "    </tr>\n",
       "    <tr>\n",
       "      <th>5</th>\n",
       "      <td>1033</td>\n",
       "      <td>Indonesia</td>\n",
       "      <td>20</td>\n",
       "      <td>2016-05-26 22:29:44</td>\n",
       "    </tr>\n",
       "    <tr>\n",
       "      <th>6</th>\n",
       "      <td>1017</td>\n",
       "      <td>Paraguay</td>\n",
       "      <td>14</td>\n",
       "      <td>2022-09-08 16:30:56</td>\n",
       "    </tr>\n",
       "    <tr>\n",
       "      <th>7</th>\n",
       "      <td>1035</td>\n",
       "      <td>Honduras</td>\n",
       "      <td>15</td>\n",
       "      <td>2021-04-14 18:55:03</td>\n",
       "    </tr>\n",
       "    <tr>\n",
       "      <th>8</th>\n",
       "      <td>1029</td>\n",
       "      <td>Argentina</td>\n",
       "      <td>14</td>\n",
       "      <td>2020-11-01 10:21:03</td>\n",
       "    </tr>\n",
       "    <tr>\n",
       "      <th>9</th>\n",
       "      <td>1014</td>\n",
       "      <td>China</td>\n",
       "      <td>3</td>\n",
       "      <td>2020-04-14 00:51:05</td>\n",
       "    </tr>\n",
       "  </tbody>\n",
       "</table>\n",
       "</div>"
      ],
      "text/plain": [
       "   Customer ID                Country  Total Purchases        Sign-up Date\n",
       "0         1015  Palestinian Territory               12 2022-04-03 21:42:29\n",
       "1         1029                  China               47 2016-01-08 03:13:12\n",
       "2         1025                Nigeria               10 2023-02-20 19:06:14\n",
       "3         1006         United Kingdom               48 2022-05-26 12:46:35\n",
       "4         1024            Philippines               16 2016-12-13 03:44:04\n",
       "5         1033              Indonesia               20 2016-05-26 22:29:44\n",
       "6         1017               Paraguay               14 2022-09-08 16:30:56\n",
       "7         1035               Honduras               15 2021-04-14 18:55:03\n",
       "8         1029              Argentina               14 2020-11-01 10:21:03\n",
       "9         1014                  China                3 2020-04-14 00:51:05"
      ]
     },
     "execution_count": 7,
     "metadata": {},
     "output_type": "execute_result"
    }
   ],
   "source": [
    "df_cleaned.head(10)"
   ]
  },
  {
   "cell_type": "code",
   "execution_count": 8,
   "id": "e15e8dab",
   "metadata": {},
   "outputs": [
    {
     "data": {
      "text/html": [
       "<div>\n",
       "<style scoped>\n",
       "    .dataframe tbody tr th:only-of-type {\n",
       "        vertical-align: middle;\n",
       "    }\n",
       "\n",
       "    .dataframe tbody tr th {\n",
       "        vertical-align: top;\n",
       "    }\n",
       "\n",
       "    .dataframe thead th {\n",
       "        text-align: right;\n",
       "    }\n",
       "</style>\n",
       "<table border=\"1\" class=\"dataframe\">\n",
       "  <thead>\n",
       "    <tr style=\"text-align: right;\">\n",
       "      <th></th>\n",
       "      <th>Customer ID</th>\n",
       "      <th>Country</th>\n",
       "      <th>Total Purchases</th>\n",
       "      <th>Sign-up Date</th>\n",
       "    </tr>\n",
       "  </thead>\n",
       "  <tbody>\n",
       "    <tr>\n",
       "      <th>0</th>\n",
       "      <td>1015</td>\n",
       "      <td>Palestinian Territory</td>\n",
       "      <td>12</td>\n",
       "      <td>2022-04-03 21:42:29</td>\n",
       "    </tr>\n",
       "    <tr>\n",
       "      <th>1</th>\n",
       "      <td>1029</td>\n",
       "      <td>China</td>\n",
       "      <td>47</td>\n",
       "      <td>2016-01-08 03:13:12</td>\n",
       "    </tr>\n",
       "    <tr>\n",
       "      <th>2</th>\n",
       "      <td>1025</td>\n",
       "      <td>Nigeria</td>\n",
       "      <td>10</td>\n",
       "      <td>2023-02-20 19:06:14</td>\n",
       "    </tr>\n",
       "    <tr>\n",
       "      <th>3</th>\n",
       "      <td>1006</td>\n",
       "      <td>United Kingdom</td>\n",
       "      <td>48</td>\n",
       "      <td>2022-05-26 12:46:35</td>\n",
       "    </tr>\n",
       "    <tr>\n",
       "      <th>4</th>\n",
       "      <td>1024</td>\n",
       "      <td>Philippines</td>\n",
       "      <td>16</td>\n",
       "      <td>2016-12-13 03:44:04</td>\n",
       "    </tr>\n",
       "    <tr>\n",
       "      <th>5</th>\n",
       "      <td>1033</td>\n",
       "      <td>Indonesia</td>\n",
       "      <td>20</td>\n",
       "      <td>2016-05-26 22:29:44</td>\n",
       "    </tr>\n",
       "    <tr>\n",
       "      <th>6</th>\n",
       "      <td>1017</td>\n",
       "      <td>Paraguay</td>\n",
       "      <td>14</td>\n",
       "      <td>2022-09-08 16:30:56</td>\n",
       "    </tr>\n",
       "    <tr>\n",
       "      <th>7</th>\n",
       "      <td>1035</td>\n",
       "      <td>Honduras</td>\n",
       "      <td>15</td>\n",
       "      <td>2021-04-14 18:55:03</td>\n",
       "    </tr>\n",
       "    <tr>\n",
       "      <th>8</th>\n",
       "      <td>1029</td>\n",
       "      <td>Argentina</td>\n",
       "      <td>14</td>\n",
       "      <td>NaT</td>\n",
       "    </tr>\n",
       "    <tr>\n",
       "      <th>9</th>\n",
       "      <td>1014</td>\n",
       "      <td>China</td>\n",
       "      <td>3</td>\n",
       "      <td>NaT</td>\n",
       "    </tr>\n",
       "  </tbody>\n",
       "</table>\n",
       "</div>"
      ],
      "text/plain": [
       "   Customer ID                Country  Total Purchases        Sign-up Date\n",
       "0         1015  Palestinian Territory               12 2022-04-03 21:42:29\n",
       "1         1029                  China               47 2016-01-08 03:13:12\n",
       "2         1025                Nigeria               10 2023-02-20 19:06:14\n",
       "3         1006         United Kingdom               48 2022-05-26 12:46:35\n",
       "4         1024            Philippines               16 2016-12-13 03:44:04\n",
       "5         1033              Indonesia               20 2016-05-26 22:29:44\n",
       "6         1017               Paraguay               14 2022-09-08 16:30:56\n",
       "7         1035               Honduras               15 2021-04-14 18:55:03\n",
       "8         1029              Argentina               14                 NaT\n",
       "9         1014                  China                3                 NaT"
      ]
     },
     "execution_count": 8,
     "metadata": {},
     "output_type": "execute_result"
    }
   ],
   "source": [
    "# Replacing all entries from year 2020 with NaN\n",
    "df_cleaned['Sign-up Date'] = df_cleaned['Sign-up Date'].mask(df_cleaned['Sign-up Date'].dt.year == 2020, np.nan)\n",
    "df_cleaned.head(10)"
   ]
  },
  {
   "cell_type": "code",
   "execution_count": 9,
   "id": "82cfcaaa",
   "metadata": {},
   "outputs": [
    {
     "data": {
      "text/plain": [
       "(748, 4)"
      ]
     },
     "execution_count": 9,
     "metadata": {},
     "output_type": "execute_result"
    }
   ],
   "source": [
    "# Dropping all rows total purchase is less than 5 and customer is from Canada\n",
    "df_cleaned = df_cleaned[~((df_cleaned['Country'] == 'Canada') & (df_cleaned['Total Purchases'] < 5))]\n",
    "df_cleaned.shape"
   ]
  },
  {
   "cell_type": "markdown",
   "id": "f968cfb0",
   "metadata": {},
   "source": [
    "### Feature Engineering"
   ]
  },
  {
   "cell_type": "code",
   "execution_count": 10,
   "id": "f264e3ab",
   "metadata": {},
   "outputs": [
    {
     "data": {
      "text/html": [
       "<div>\n",
       "<style scoped>\n",
       "    .dataframe tbody tr th:only-of-type {\n",
       "        vertical-align: middle;\n",
       "    }\n",
       "\n",
       "    .dataframe tbody tr th {\n",
       "        vertical-align: top;\n",
       "    }\n",
       "\n",
       "    .dataframe thead th {\n",
       "        text-align: right;\n",
       "    }\n",
       "</style>\n",
       "<table border=\"1\" class=\"dataframe\">\n",
       "  <thead>\n",
       "    <tr style=\"text-align: right;\">\n",
       "      <th></th>\n",
       "      <th>Customer ID</th>\n",
       "      <th>Country</th>\n",
       "      <th>Total Purchases</th>\n",
       "      <th>Sign-up Date</th>\n",
       "      <th>membership_years</th>\n",
       "      <th>Loyalty Score</th>\n",
       "    </tr>\n",
       "  </thead>\n",
       "  <tbody>\n",
       "    <tr>\n",
       "      <th>0</th>\n",
       "      <td>1015</td>\n",
       "      <td>Palestinian Territory</td>\n",
       "      <td>12</td>\n",
       "      <td>2022-04-03 21:42:29</td>\n",
       "      <td>2.961644</td>\n",
       "      <td>1</td>\n",
       "    </tr>\n",
       "    <tr>\n",
       "      <th>1</th>\n",
       "      <td>1029</td>\n",
       "      <td>China</td>\n",
       "      <td>47</td>\n",
       "      <td>2016-01-08 03:13:12</td>\n",
       "      <td>9.202740</td>\n",
       "      <td>3</td>\n",
       "    </tr>\n",
       "    <tr>\n",
       "      <th>2</th>\n",
       "      <td>1025</td>\n",
       "      <td>Nigeria</td>\n",
       "      <td>10</td>\n",
       "      <td>2023-02-20 19:06:14</td>\n",
       "      <td>2.076712</td>\n",
       "      <td>2</td>\n",
       "    </tr>\n",
       "  </tbody>\n",
       "</table>\n",
       "</div>"
      ],
      "text/plain": [
       "   Customer ID                Country  Total Purchases        Sign-up Date  \\\n",
       "0         1015  Palestinian Territory               12 2022-04-03 21:42:29   \n",
       "1         1029                  China               47 2016-01-08 03:13:12   \n",
       "2         1025                Nigeria               10 2023-02-20 19:06:14   \n",
       "\n",
       "   membership_years  Loyalty Score  \n",
       "0          2.961644              1  \n",
       "1          9.202740              3  \n",
       "2          2.076712              2  "
      ]
     },
     "execution_count": 10,
     "metadata": {},
     "output_type": "execute_result"
    }
   ],
   "source": [
    "# Adding a new column called Loyalty score\n",
    "df_cleaned['membership_years'] = (pd.Timestamp(datetime.now()) - df_cleaned['Sign-up Date']).dt.days / 365\n",
    "\n",
    "\n",
    "# Define a function for loyalty score\n",
    "def Loyalty_Score (row):\n",
    "    if row['Total Purchases'] > 20:\n",
    "        return 3\n",
    "    elif row['Total Purchases'] <= 10 <= row['Total Purchases'] <=20 :\n",
    "        return 2\n",
    "    else:\n",
    "        if row['membership_years'] > 3 :\n",
    "            return 2\n",
    "        else:\n",
    "            return 1\n",
    "\n",
    "df_cleaned['Loyalty Score'] = df_cleaned.apply(Loyalty_Score, axis=1)\n",
    "df_cleaned.head(3)\n",
    "    "
   ]
  },
  {
   "cell_type": "markdown",
   "id": "9ccd7c25",
   "metadata": {},
   "source": [
    "### Data Agrgregaton and Filtering"
   ]
  },
  {
   "cell_type": "code",
   "execution_count": 16,
   "id": "f50f86d9",
   "metadata": {},
   "outputs": [
    {
     "data": {
      "text/html": [
       "<div>\n",
       "<style scoped>\n",
       "    .dataframe tbody tr th:only-of-type {\n",
       "        vertical-align: middle;\n",
       "    }\n",
       "\n",
       "    .dataframe tbody tr th {\n",
       "        vertical-align: top;\n",
       "    }\n",
       "\n",
       "    .dataframe thead th {\n",
       "        text-align: right;\n",
       "    }\n",
       "</style>\n",
       "<table border=\"1\" class=\"dataframe\">\n",
       "  <thead>\n",
       "    <tr style=\"text-align: right;\">\n",
       "      <th></th>\n",
       "      <th>Country</th>\n",
       "      <th>mean</th>\n",
       "      <th>max</th>\n",
       "    </tr>\n",
       "  </thead>\n",
       "  <tbody>\n",
       "    <tr>\n",
       "      <th>0</th>\n",
       "      <td>Afghanistan</td>\n",
       "      <td>8.000000</td>\n",
       "      <td>20</td>\n",
       "    </tr>\n",
       "    <tr>\n",
       "      <th>1</th>\n",
       "      <td>Albania</td>\n",
       "      <td>20.500000</td>\n",
       "      <td>38</td>\n",
       "    </tr>\n",
       "    <tr>\n",
       "      <th>2</th>\n",
       "      <td>Andorra</td>\n",
       "      <td>11.000000</td>\n",
       "      <td>11</td>\n",
       "    </tr>\n",
       "    <tr>\n",
       "      <th>3</th>\n",
       "      <td>Angola</td>\n",
       "      <td>15.000000</td>\n",
       "      <td>29</td>\n",
       "    </tr>\n",
       "    <tr>\n",
       "      <th>4</th>\n",
       "      <td>Argentina</td>\n",
       "      <td>24.692308</td>\n",
       "      <td>45</td>\n",
       "    </tr>\n",
       "    <tr>\n",
       "      <th>...</th>\n",
       "      <td>...</td>\n",
       "      <td>...</td>\n",
       "      <td>...</td>\n",
       "    </tr>\n",
       "    <tr>\n",
       "      <th>106</th>\n",
       "      <td>Vanuatu</td>\n",
       "      <td>22.000000</td>\n",
       "      <td>22</td>\n",
       "    </tr>\n",
       "    <tr>\n",
       "      <th>107</th>\n",
       "      <td>Venezuela</td>\n",
       "      <td>25.333333</td>\n",
       "      <td>43</td>\n",
       "    </tr>\n",
       "    <tr>\n",
       "      <th>108</th>\n",
       "      <td>Vietnam</td>\n",
       "      <td>24.333333</td>\n",
       "      <td>47</td>\n",
       "    </tr>\n",
       "    <tr>\n",
       "      <th>109</th>\n",
       "      <td>Yemen</td>\n",
       "      <td>10.000000</td>\n",
       "      <td>15</td>\n",
       "    </tr>\n",
       "    <tr>\n",
       "      <th>110</th>\n",
       "      <td>Zimbabwe</td>\n",
       "      <td>8.000000</td>\n",
       "      <td>8</td>\n",
       "    </tr>\n",
       "  </tbody>\n",
       "</table>\n",
       "<p>111 rows × 3 columns</p>\n",
       "</div>"
      ],
      "text/plain": [
       "         Country       mean  max\n",
       "0    Afghanistan   8.000000   20\n",
       "1        Albania  20.500000   38\n",
       "2        Andorra  11.000000   11\n",
       "3         Angola  15.000000   29\n",
       "4      Argentina  24.692308   45\n",
       "..           ...        ...  ...\n",
       "106      Vanuatu  22.000000   22\n",
       "107    Venezuela  25.333333   43\n",
       "108      Vietnam  24.333333   47\n",
       "109        Yemen  10.000000   15\n",
       "110     Zimbabwe   8.000000    8\n",
       "\n",
       "[111 rows x 3 columns]"
      ]
     },
     "execution_count": 16,
     "metadata": {},
     "output_type": "execute_result"
    }
   ],
   "source": [
    "# Grouping Total Purchases by Country (except Mexico) and calculating the mean and maximum purchase\n",
    "df_filtered = df_cleaned[df_cleaned['Country'] != 'Mexico']\n",
    "total_purchases_stats = df_filtered.groupby('Country')['Total Purchases'].agg(['mean', 'max']).reset_index()\n",
    "total_purchases_stats"
   ]
  },
  {
   "cell_type": "code",
   "execution_count": 17,
   "id": "cfa693e3",
   "metadata": {},
   "outputs": [
    {
     "data": {
      "text/plain": [
       "Country\n",
       "Afghanistan    2\n",
       "Albania        2\n",
       "Andorra        2\n",
       "Angola         2\n",
       "Argentina      3\n",
       "              ..\n",
       "Vanuatu        3\n",
       "Venezuela      3\n",
       "Vietnam        3\n",
       "Yemen          2\n",
       "Zimbabwe       2\n",
       "Name: Loyalty Score, Length: 111, dtype: int64"
      ]
     },
     "execution_count": 17,
     "metadata": {},
     "output_type": "execute_result"
    }
   ],
   "source": [
    "# Most Loyalty Score for each Country excluding Mexico\n",
    "most_common_loyalty_score_by_country = df_filtered.groupby('Country')['Loyalty Score'].agg(lambda x: x.mode().iloc[0])\n",
    "most_common_loyalty_score_by_country"
   ]
  },
  {
   "cell_type": "markdown",
   "id": "3a0623ba",
   "metadata": {},
   "source": [
    "### Data Export and Report Generation"
   ]
  },
  {
   "cell_type": "code",
   "execution_count": 24,
   "id": "c4627841",
   "metadata": {},
   "outputs": [
    {
     "data": {
      "text/html": [
       "<div>\n",
       "<style scoped>\n",
       "    .dataframe tbody tr th:only-of-type {\n",
       "        vertical-align: middle;\n",
       "    }\n",
       "\n",
       "    .dataframe tbody tr th {\n",
       "        vertical-align: top;\n",
       "    }\n",
       "\n",
       "    .dataframe thead th {\n",
       "        text-align: right;\n",
       "    }\n",
       "</style>\n",
       "<table border=\"1\" class=\"dataframe\">\n",
       "  <thead>\n",
       "    <tr style=\"text-align: right;\">\n",
       "      <th></th>\n",
       "      <th>Customer ID</th>\n",
       "      <th>Loyalty Score</th>\n",
       "      <th>Country</th>\n",
       "      <th>Total Purchases</th>\n",
       "    </tr>\n",
       "  </thead>\n",
       "  <tbody>\n",
       "    <tr>\n",
       "      <th>0</th>\n",
       "      <td>1015</td>\n",
       "      <td>1</td>\n",
       "      <td>Palestinian Territory</td>\n",
       "      <td>12</td>\n",
       "    </tr>\n",
       "    <tr>\n",
       "      <th>1</th>\n",
       "      <td>1029</td>\n",
       "      <td>3</td>\n",
       "      <td>China</td>\n",
       "      <td>47</td>\n",
       "    </tr>\n",
       "  </tbody>\n",
       "</table>\n",
       "</div>"
      ],
      "text/plain": [
       "   Customer ID  Loyalty Score                Country  Total Purchases\n",
       "0         1015              1  Palestinian Territory               12\n",
       "1         1029              3                  China               47"
      ]
     },
     "execution_count": 24,
     "metadata": {},
     "output_type": "execute_result"
    }
   ],
   "source": [
    "# Save the process data with the desired columns\n",
    "final_columns = [\"Customer ID\", \"Loyalty Score\", \"Country\", \"Total Purchases\"]\n",
    "processed_df = df_cleaned[final_columns ]\n",
    "processed_df.head(2)"
   ]
  },
  {
   "cell_type": "code",
   "execution_count": 26,
   "id": "6a186894",
   "metadata": {},
   "outputs": [
    {
     "data": {
      "text/plain": [
       "'processed_data_20_03_2025.csv'"
      ]
     },
     "execution_count": 26,
     "metadata": {},
     "output_type": "execute_result"
    }
   ],
   "source": [
    "# Getting today's date\n",
    "today = datetime.today()\n",
    "date_str = today.strftime(\"%d_%m_%Y\")\n",
    "\n",
    "# Save the df to CSV file\n",
    "filename = f\"processed_data_{date_str}.csv\"\n",
    "processed_df.to_csv(filename, index=False)\n",
    "\n",
    "filename"
   ]
  },
  {
   "cell_type": "code",
   "execution_count": 35,
   "id": "49907d99",
   "metadata": {},
   "outputs": [
    {
     "data": {
      "text/html": [
       "<div>\n",
       "<style scoped>\n",
       "    .dataframe tbody tr th:only-of-type {\n",
       "        vertical-align: middle;\n",
       "    }\n",
       "\n",
       "    .dataframe tbody tr th {\n",
       "        vertical-align: top;\n",
       "    }\n",
       "\n",
       "    .dataframe thead th {\n",
       "        text-align: right;\n",
       "    }\n",
       "</style>\n",
       "<table border=\"1\" class=\"dataframe\">\n",
       "  <thead>\n",
       "    <tr style=\"text-align: right;\">\n",
       "      <th></th>\n",
       "      <th>Customer ID</th>\n",
       "      <th>Loyalty Score</th>\n",
       "      <th>Country</th>\n",
       "      <th>Total Purchases</th>\n",
       "    </tr>\n",
       "  </thead>\n",
       "  <tbody>\n",
       "    <tr>\n",
       "      <th>741</th>\n",
       "      <td>1025</td>\n",
       "      <td>2</td>\n",
       "      <td>Russia</td>\n",
       "      <td>3</td>\n",
       "    </tr>\n",
       "    <tr>\n",
       "      <th>560</th>\n",
       "      <td>1023</td>\n",
       "      <td>1</td>\n",
       "      <td>China</td>\n",
       "      <td>18</td>\n",
       "    </tr>\n",
       "    <tr>\n",
       "      <th>33</th>\n",
       "      <td>1033</td>\n",
       "      <td>2</td>\n",
       "      <td>Azerbaijan</td>\n",
       "      <td>1</td>\n",
       "    </tr>\n",
       "    <tr>\n",
       "      <th>274</th>\n",
       "      <td>1023</td>\n",
       "      <td>2</td>\n",
       "      <td>Indonesia</td>\n",
       "      <td>12</td>\n",
       "    </tr>\n",
       "    <tr>\n",
       "      <th>639</th>\n",
       "      <td>1011</td>\n",
       "      <td>3</td>\n",
       "      <td>Sweden</td>\n",
       "      <td>35</td>\n",
       "    </tr>\n",
       "    <tr>\n",
       "      <th>209</th>\n",
       "      <td>1024</td>\n",
       "      <td>3</td>\n",
       "      <td>Bulgaria</td>\n",
       "      <td>24</td>\n",
       "    </tr>\n",
       "    <tr>\n",
       "      <th>67</th>\n",
       "      <td>1013</td>\n",
       "      <td>3</td>\n",
       "      <td>China</td>\n",
       "      <td>47</td>\n",
       "    </tr>\n",
       "    <tr>\n",
       "      <th>646</th>\n",
       "      <td>1017</td>\n",
       "      <td>3</td>\n",
       "      <td>China</td>\n",
       "      <td>28</td>\n",
       "    </tr>\n",
       "    <tr>\n",
       "      <th>157</th>\n",
       "      <td>1029</td>\n",
       "      <td>3</td>\n",
       "      <td>China</td>\n",
       "      <td>24</td>\n",
       "    </tr>\n",
       "    <tr>\n",
       "      <th>552</th>\n",
       "      <td>1033</td>\n",
       "      <td>3</td>\n",
       "      <td>Colombia</td>\n",
       "      <td>45</td>\n",
       "    </tr>\n",
       "  </tbody>\n",
       "</table>\n",
       "</div>"
      ],
      "text/plain": [
       "     Customer ID  Loyalty Score     Country  Total Purchases\n",
       "741         1025              2      Russia                3\n",
       "560         1023              1       China               18\n",
       "33          1033              2  Azerbaijan                1\n",
       "274         1023              2   Indonesia               12\n",
       "639         1011              3      Sweden               35\n",
       "209         1024              3    Bulgaria               24\n",
       "67          1013              3       China               47\n",
       "646         1017              3       China               28\n",
       "157         1029              3       China               24\n",
       "552         1033              3    Colombia               45"
      ]
     },
     "execution_count": 35,
     "metadata": {},
     "output_type": "execute_result"
    }
   ],
   "source": [
    "# printing the first 10 rows of the processed df, using random state for reproducibilty\n",
    "shuffled_df = processed_df.sample(frac= 1, random_state=4)\n",
    "shuffled_df.head(10)"
   ]
  },
  {
   "cell_type": "markdown",
   "id": "584bff78",
   "metadata": {},
   "source": [
    "### Summary of Findings from the Analysis\n",
    "- The mock dataset used for this analysis originally contained 1000 rows and 4 columns, however, the first 750 rows was loaded in the the pd dataframe for the purpose of the analysis.\n",
    "- For the data cleaning steps, consecutive duplicates were removed and the data formats for each column was checked to ensure they are in the right or standard formats\n",
    "- New features(Membership years and Loyalty scores) were created out of the existing features. This is to provide insights that will be useful in developing targeted marketing strategies and customer retention programs that will propel the business forward.\n",
    "- Data aggregation and filtering was done to get the total purchases by country and search out most common loyalty score by country.Some countries demonstrated high purchase values, suggesting regions with potential for targeted marketing strategies\n",
    "- The final proccessed data was saved with the desired column in a downloadable csv format."
   ]
  },
  {
   "cell_type": "code",
   "execution_count": null,
   "id": "9517aec9",
   "metadata": {},
   "outputs": [],
   "source": []
  }
 ],
 "metadata": {
  "kernelspec": {
   "display_name": "Python 3 (ipykernel)",
   "language": "python",
   "name": "python3"
  },
  "language_info": {
   "codemirror_mode": {
    "name": "ipython",
    "version": 3
   },
   "file_extension": ".py",
   "mimetype": "text/x-python",
   "name": "python",
   "nbconvert_exporter": "python",
   "pygments_lexer": "ipython3",
   "version": "3.11.5"
  }
 },
 "nbformat": 4,
 "nbformat_minor": 5
}
